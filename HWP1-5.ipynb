{
 "cells": [
  {
   "cell_type": "markdown",
   "metadata": {},
   "source": [
    "## Program 1: A Good First Program ##\n"
   ]
  },
  {
   "cell_type": "markdown",
   "metadata": {},
   "source": [
    "We use the \"print\" function to indicate what we want to display on screen\n",
    "\n",
    "Example:\n",
    "\n"
   ]
  },
  {
   "cell_type": "code",
   "execution_count": 6,
   "metadata": {},
   "outputs": [
    {
     "name": "stdout",
     "output_type": "stream",
     "text": [
      "WELCOME\n",
      "My favorite chapter was...\n",
      "I love Autumn\n",
      "What is your favorite singer?\n"
     ]
    }
   ],
   "source": [
    "print(\"WELCOME\") # nosotros escribimos entre comillas lo que queremos mostrar\n",
    "print(\"My favorite chapter was...\")\n",
    "print (\"I love Autumn\")\n",
    "print (\"What is your favorite singer?\")\n",
    "\n"
   ]
  },
  {
   "cell_type": "markdown",
   "metadata": {},
   "source": [
    "## Program 2: Comments and Pound Characters ##"
   ]
  },
  {
   "cell_type": "markdown",
   "metadata": {},
   "source": [
    "The use of the comments allows us to remember the task that on that line will be running. Its symbol is #\n",
    "\n",
    "Example:"
   ]
  },
  {
   "cell_type": "code",
   "execution_count": 9,
   "metadata": {},
   "outputs": [
    {
     "name": "stdout",
     "output_type": "stream",
     "text": [
      "El tiempo de operación es:\n",
      "La secuencia finaliza en:\n"
     ]
    }
   ],
   "source": [
    "print (\"The time of operation was\") #Tiempo es que la acción se estará ejecutando\n",
    "print (\"The task ends:\") #En que momento la acción dejará de ejecutarse"
   ]
  },
  {
   "cell_type": "markdown",
   "metadata": {},
   "source": [
    "## Program 3: Numbers and Maths ##"
   ]
  },
  {
   "cell_type": "markdown",
   "metadata": {},
   "source": [
    "In programming is use of mathematical symbols is essential part Among them we have: + - / * % > = >=\n",
    "\n",
    "Example"
   ]
  },
  {
   "cell_type": "code",
   "execution_count": 10,
   "metadata": {},
   "outputs": [
    {
     "name": "stdout",
     "output_type": "stream",
     "text": [
      "I will now count my pets\n",
      "Dogs 5\n",
      "Turtles 3\n",
      "Now I will count my fish\n",
      "14\n",
      "Is it true that 9+2<5-2?\n",
      "False\n",
      "What is 258+789? 1047\n",
      "What is 745-85 660\n",
      "Oh, that´s why it is False.\n",
      "Hoow about some more\n",
      "It is greater? False\n",
      "Is it greater or equal True\n",
      "Is it less or equal False\n"
     ]
    }
   ],
   "source": [
    "print (\"I will now count my pets\")\n",
    "print (\"Dogs\", 2+3)\n",
    "print (\"Turtles\", 5-2)\n",
    "print (\"Now I will count my fish\")\n",
    "print (3+5+4-1+3)\n",
    "print (\"Is it true that 9+2<5-2?\")\n",
    "print (9+2<5-2)\n",
    "print (\"What is 258+789?\",258+789)\n",
    "print (\"What is 745-85\",745-85)\n",
    "print (\"Oh, that´s why it is False.\")\n",
    "print (\"Hoow about some more\")\n",
    "print (\"It is greater?\",742>852)\n",
    "print (\"Is it greater or equal\", 100>57)\n",
    "print (\"Is it less or equal\", 29<=-29)\n"
   ]
  },
  {
   "cell_type": "markdown",
   "metadata": {},
   "source": [
    "## Program 4: Variables and names ##"
   ]
  },
  {
   "cell_type": "markdown",
   "metadata": {},
   "source": [
    "Variables help us designate values or names to the things we want to work with\n",
    "Example"
   ]
  },
  {
   "cell_type": "code",
   "execution_count": 16,
   "metadata": {},
   "outputs": [
    {
     "name": "stdout",
     "output_type": "stream",
     "text": [
      "There are 220 chairs available.\n",
      "There are only 10 professors available.\n",
      "We have 200 students today.\n",
      "We need to put about 40.0 students in each classroom.\n"
     ]
    }
   ],
   "source": [
    "chairs= 220\n",
    "classrooms = 5\n",
    "professors=10\n",
    "students= 200\n",
    "average_students_per_classroom= students/ classrooms\n",
    "\n",
    "\n",
    "print(\"There are\",chairs,\"chairs available.\")\n",
    "print(\"There are only\", professors, \"professors available.\")\n",
    "print(\"We have\", students, \"students today.\")\n",
    "print(\"We need to put about\", average_students_per_classroom,\"students\" , \"in each classroom.\")"
   ]
  },
  {
   "cell_type": "markdown",
   "metadata": {},
   "source": [
    "## PROGRAM 5 #\n",
    "We learned to make a string with the characters {}, this is called formal string\n",
    "Example\n"
   ]
  },
  {
   "cell_type": "code",
   "execution_count": 17,
   "metadata": {},
   "outputs": [
    {
     "name": "stdout",
     "output_type": "stream",
     "text": [
      "Let´s talk about Evelyn Sánchez\n",
      "She's 1.65 meters tall\n",
      "She's64 kilograms heavy\n",
      "Actually that's not too heavy\n",
      "She's got brown eyes and brown hair\n",
      "Her teeth are white\n",
      "If I add 19, 1.65, and 64 I get 84.65\n"
     ]
    }
   ],
   "source": [
    "my_name ='Evelyn Sánchez'\n",
    "my_age= 19\n",
    "my_height=1.65# meters\n",
    "my_weight=64 #kg\n",
    "my_eyes='brown'\n",
    "my_teeth ='white'\n",
    "my_hair = 'brown'\n",
    "\n",
    "print(f\"Let´s talk about {my_name}\")\n",
    "print(f\"She's {my_height} meters tall\")\n",
    "print(f\"She's{my_weight} kilograms heavy\")\n",
    "print(\"Actually that's not too heavy\")\n",
    "print(f\"She's got {my_eyes} eyes and {my_hair} hair\")\n",
    "print(f\"Her teeth are {my_teeth}\")\n",
    "\n",
    "total=my_age+my_height+my_weight\n",
    "print(f\"If I add {my_age}, {my_height}, and {my_weight} I get {total}\")\n"
   ]
  },
  {
   "cell_type": "code",
   "execution_count": null,
   "metadata": {},
   "outputs": [],
   "source": []
  }
 ],
 "metadata": {
  "kernelspec": {
   "display_name": "Python 3",
   "language": "python",
   "name": "python3"
  },
  "language_info": {
   "codemirror_mode": {
    "name": "ipython",
    "version": 3
   },
   "file_extension": ".py",
   "mimetype": "text/x-python",
   "name": "python",
   "nbconvert_exporter": "python",
   "pygments_lexer": "ipython3",
   "version": "3.7.4"
  }
 },
 "nbformat": 4,
 "nbformat_minor": 2
}
